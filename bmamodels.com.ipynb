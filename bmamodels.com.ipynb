{
 "cells": [
  {
   "cell_type": "code",
   "execution_count": 10,
   "metadata": {},
   "outputs": [],
   "source": [
    "import csv, requests, os\n",
    "from bs4 import BeautifulSoup\n",
    "\n",
    "url = 'https://bmamodels.com/category/women-models/female-mainboard/'\n",
    "basedir = 'bmamodels.com'\n",
    "models_details = list()"
   ]
  },
  {
   "cell_type": "code",
   "execution_count": 2,
   "metadata": {},
   "outputs": [],
   "source": [
    "soup = BeautifulSoup(requests.get(url).content, 'html5lib')\n"
   ]
  },
  {
   "cell_type": "code",
   "execution_count": 3,
   "metadata": {},
   "outputs": [],
   "source": [
    "links =[url.a['href'] for url in soup.find('div', {'class':'gridmodel'}).findAll('div', class_='grid-item')[:-1] ]\n",
    "names = [\" \".join([i.title() for i in url.split('/')[-2].split('-')]) for url in links]\n",
    "\n",
    "models_dict = dict(zip(names,links))"
   ]
  },
  {
   "cell_type": "code",
   "execution_count": 4,
   "metadata": {},
   "outputs": [
    {
     "data": {
      "text/plain": [
       "{'Danea P': 'https://bmamodels.com/danea-p/',\n",
       " 'Presley J': 'https://bmamodels.com/presley-j/',\n",
       " 'Michelle S': 'https://bmamodels.com/michelle-s/',\n",
       " 'Suh M': 'https://bmamodels.com/suh-m/',\n",
       " 'Hattie S': 'https://bmamodels.com/hattie-s/',\n",
       " 'Amanda F': 'https://bmamodels.com/amanda-f/',\n",
       " 'Jamaicia J': 'https://bmamodels.com/jamaicia-j/',\n",
       " 'Laura B': 'https://bmamodels.com/laura-b/',\n",
       " 'Annie Knowles': 'https://bmamodels.com/annie-knowles/',\n",
       " 'China T': 'https://bmamodels.com/china-t/',\n",
       " 'Bethany L': 'https://bmamodels.com/bethany-l/',\n",
       " 'Dana B': 'https://bmamodels.com/dana-b/',\n",
       " 'Pilar S': 'https://bmamodels.com/pilar-s/',\n",
       " 'Issy C': 'https://bmamodels.com/issy-c/',\n",
       " 'Maria S': 'https://bmamodels.com/maria-s/',\n",
       " 'Agustina M': 'https://bmamodels.com/agustina-m/',\n",
       " 'Sarah T': 'https://bmamodels.com/sarah-t/',\n",
       " 'Duda B': 'https://bmamodels.com/duda-b/',\n",
       " 'Zsanett K 2': 'https://bmamodels.com/zsanett-k-2/',\n",
       " 'Elisa B': 'https://bmamodels.com/elisa-b/',\n",
       " 'Misty B': 'https://bmamodels.com/misty-b/',\n",
       " 'Kizzy A': 'https://bmamodels.com/kizzy-a/',\n",
       " 'Patrish Z': 'https://bmamodels.com/patrish-z/',\n",
       " 'Xenia M': 'https://bmamodels.com/xenia-m/',\n",
       " 'Zoe C': 'https://bmamodels.com/zoe-c/',\n",
       " 'Julia S': 'https://bmamodels.com/julia-s/',\n",
       " 'Elizabeth S': 'https://bmamodels.com/elizabeth-s/',\n",
       " 'Sophie T 2': 'https://bmamodels.com/sophie-t-2/',\n",
       " 'Rhea P': 'https://bmamodels.com/rhea-p/',\n",
       " 'Bluebell W': 'https://bmamodels.com/bluebell-w/',\n",
       " 'Jamilya K': 'https://bmamodels.com/jamilya-k/',\n",
       " 'Auranunpas I': 'https://bmamodels.com/auranunpas-i/',\n",
       " 'Sindy O': 'https://bmamodels.com/sindy-o/',\n",
       " 'Lillie B': 'https://bmamodels.com/lillie-b/',\n",
       " 'Lily F': 'https://bmamodels.com/lily-f/',\n",
       " 'Courtney S': 'https://bmamodels.com/courtney-s/',\n",
       " 'Adrianne P': 'https://bmamodels.com/adrianne-p/',\n",
       " 'India D': 'https://bmamodels.com/india-d/',\n",
       " 'Alicia D': 'https://bmamodels.com/alicia-d/',\n",
       " 'Tanzum C': 'https://bmamodels.com/tanzum-c/',\n",
       " 'Savannah S': 'https://bmamodels.com/savannah-s/',\n",
       " 'Imran R 2': 'https://bmamodels.com/imran-r-2/',\n",
       " 'Rosalie N': 'https://bmamodels.com/rosalie-n/',\n",
       " 'Nicquitha T 2': 'https://bmamodels.com/nicquitha-t-2/',\n",
       " 'Jasmine C 2': 'https://bmamodels.com/jasmine-c-2/',\n",
       " 'Ndey M 2': 'https://bmamodels.com/ndey-m-2/',\n",
       " 'Daniela M 2': 'https://bmamodels.com/daniela-m-2/',\n",
       " 'Astrid F 2': 'https://bmamodels.com/astrid-f-2/',\n",
       " 'Barbara Z 2': 'https://bmamodels.com/barbara-z-2/',\n",
       " 'Malena S 2': 'https://bmamodels.com/malena-s-2/'}"
      ]
     },
     "execution_count": 4,
     "metadata": {},
     "output_type": "execute_result"
    }
   ],
   "source": [
    "models_dict"
   ]
  },
  {
   "cell_type": "code",
   "execution_count": 16,
   "metadata": {},
   "outputs": [],
   "source": [
    "def download_pics(pics):\n",
    "    for pic in pics:\n",
    "        regex = re.search(r'\\w+\\d+.jpg', pic).group(0)\n",
    "        path = f\"{basedir}/{k}/{regex}\"\n",
    "        if not os.path.exists(path):\n",
    "            with open(path, 'wb') as f:\n",
    "                f.write(requests.get(pic).content)\n",
    "\n",
    "def list_to_csv(lst):\n",
    "    with open(f\"{basedir}/models_info.csv\",'w') as f:\n",
    "        c = csv.DictWriter(f, [\"NAME\",\"URL\", \"HEIGHT\", \"BUST\",\"WAIST\",\"HIPS\",\"DRESS\" ,\"EYES\",\"HAIR\", \"SHOES\"])\n",
    "        c.writeheader()\n",
    "        for row in lst:\n",
    "            c.writerow(row)"
   ]
  },
  {
   "cell_type": "code",
   "execution_count": null,
   "metadata": {},
   "outputs": [],
   "source": [
    "for k,v in models_dict.items():\n",
    "    os.makedirs(f\"{basedir}/{k}\", exist_ok=True)\n",
    "    print(k,v)\n",
    "    soup1 = BeautifulSoup(requests.get(v).content, 'html5lib')\n",
    "    pics = [pic.img['src'] for pic in soup1.find('div', class_='gridmodel').findAll('div', class_='grid-item')]\n",
    "    download_pics(pics)\n",
    "    feat_dict = {feat.text.split(':')[0]:feat.text.split(':')[1] for feat in soup1.find('div', class_='containergrid').findAll('p')}\n",
    "    feat_dict.update({'NAME':k,'URL':v})\n",
    "    for k,v in feat_dict.items():\n",
    "        if 'cm' in v:\n",
    "            feat_dict[k] = v.split('-')[0]\n",
    "    models_details.append(feat_dict)\n"
   ]
  },
  {
   "cell_type": "code",
   "execution_count": null,
   "metadata": {},
   "outputs": [],
   "source": [
    "\n",
    "list_to_csv(models_details)"
   ]
  }
 ],
 "metadata": {
  "kernelspec": {
   "display_name": "Python 3",
   "language": "python",
   "name": "python3"
  },
  "language_info": {
   "codemirror_mode": {
    "name": "ipython",
    "version": 3
   },
   "file_extension": ".py",
   "mimetype": "text/x-python",
   "name": "python",
   "nbconvert_exporter": "python",
   "pygments_lexer": "ipython3",
   "version": "3.10.9"
  },
  "orig_nbformat": 4,
  "vscode": {
   "interpreter": {
    "hash": "abd831dd4d00d340afa9e767b46e329f8e65c4879bb830616b9e2acef8d75f4a"
   }
  }
 },
 "nbformat": 4,
 "nbformat_minor": 2
}
