{
 "cells": [
  {
   "cell_type": "code",
   "execution_count": 59,
   "metadata": {},
   "outputs": [],
   "source": [
    "import csv, requests, os\n",
    "from bs4 import BeautifulSoup\n",
    "\n",
    "url = 'https://62management.com/models/?gender=women'\n",
    "basedir ='62management.com'\n",
    "models_details = list()"
   ]
  },
  {
   "cell_type": "code",
   "execution_count": 3,
   "metadata": {},
   "outputs": [],
   "source": [
    "soup = BeautifulSoup(requests.get(url).content, 'html5lib')"
   ]
  },
  {
   "cell_type": "code",
   "execution_count": 60,
   "metadata": {},
   "outputs": [],
   "source": [
    "models = soup.find('section', class_='grid-container').findAll('div', class_='women')\n",
    "\n",
    "links = [link.a['href'] for link in models]\n",
    "names=[name.find('div', class_='inner').h3.text for name in models]\n",
    "\n",
    "models_dict = dict(zip(names,links))"
   ]
  },
  {
   "cell_type": "code",
   "execution_count": 65,
   "metadata": {},
   "outputs": [],
   "source": [
    "def download_pics(pics, k):\n",
    "    for pic in pics:\n",
    "        print(pic)\n",
    "        path = f\"{basedir}/{k}/{pic.split('/')[-1]}\"\n",
    "        print(path)\n",
    "        if not os.path.exists(path):\n",
    "            with open(path, 'wb') as f:\n",
    "                f.write(requests.get(pic).content)\n",
    "\n",
    "def list_to_csv(lst):\n",
    "    with open(f\"{basedir}/models_info.csv\",'w') as f:\n",
    "        c = csv.DictWriter(f, [\"NAME\",\"URL\", \"HEIGHT\", \"BUST\",\"WAIST\",\"HIPS\",\"DRESS\" ,\"EYES\",\"HAIR\", \"SHOES\"])\n",
    "        c.writeheader()\n",
    "        for row in lst:\n",
    "            c.writerow(row)\n",
    "\n",
    "\n",
    "def parse(soup1:BeautifulSoup) -> dict:\n",
    "    features = [feat.text.strip().split('\\n')[0].upper() for feat in soup1.find('div', class_='talent-meta').findAll('li')]\n",
    "    values = [feat.text.strip().split('\\n')[1].strip() for feat in soup1.find('div', class_='talent-meta').findAll('li')]\n",
    "    return dict(zip(features, values))"
   ]
  },
  {
   "cell_type": "code",
   "execution_count": 63,
   "metadata": {},
   "outputs": [
    {
     "name": "stdout",
     "output_type": "stream",
     "text": [
      "Acacia Flewitt https://62management.com/talent/acacia-flewitt/\n",
      "https://cdn.62management.com/wp-content/uploads/2023/04/03023148/Acacia_digis_April2023_.jpg1_-576x1024.jpg\n",
      "62management.com/Acacia Flewitt/Acacia_digis_April2023_.jpg1_-576x1024.jpg\n",
      "https://cdn.62management.com/wp-content/uploads/2023/04/03023207/Acacia_digis_April2023_.jpg4_-scaled-e1680578695686-765x1024.jpg\n",
      "62management.com/Acacia Flewitt/Acacia_digis_April2023_.jpg4_-scaled-e1680578695686-765x1024.jpg\n",
      "https://cdn.62management.com/wp-content/uploads/2023/04/03023226/Acacia_digis_April2023_.jpg5_-576x1024.jpg\n",
      "62management.com/Acacia Flewitt/Acacia_digis_April2023_.jpg5_-576x1024.jpg\n",
      "https://cdn.62management.com/wp-content/uploads/2023/04/03023245/Acacia_digis_April2023_.jpg6_-576x1024.jpg\n",
      "62management.com/Acacia Flewitt/Acacia_digis_April2023_.jpg6_-576x1024.jpg\n",
      "{'NAME': 'Acacia Flewitt', 'URL': 'https://62management.com/talent/acacia-flewitt/', 'HEIGHT': '175 cm', 'DRESS': '8', 'SHOES': '9', 'EYES': 'Brown', 'HAIR': 'Brown'}\n"
     ]
    }
   ],
   "source": [
    "for k,v in models_dict.items():\n",
    "    print(k,v)\n",
    "    os.makedirs(f\"{basedir}/{k}\",exist_ok=True)\n",
    "    soup1 = BeautifulSoup(requests.get(v).content, 'html5lib')\n",
    "    try:\n",
    "        feat_dict = {'NAME':k, 'URL':v}\n",
    "        feat_dict.update(parse(soup1))\n",
    "        pics = [pic.img['src'] for pic in soup1.findAll('div', class_='img-row')]\n",
    "        download_pics(pics,k)\n",
    "        print(feat_dict)\n",
    "        models_details.append(feat_dict)\n",
    "    except:\n",
    "        print('Failed for {}'.format(k))"
   ]
  },
  {
   "cell_type": "code",
   "execution_count": 71,
   "metadata": {},
   "outputs": [],
   "source": [
    "soup1 = BeautifulSoup(requests.get('https://62management.com/talent/anna-lines/').content, 'html5lib')"
   ]
  },
  {
   "cell_type": "code",
   "execution_count": 73,
   "metadata": {},
   "outputs": [
    {
     "data": {
      "text/plain": [
       "[<li><a class=\"instagram\" href=\"https://www.instagram.com/annalines10/\" target=\"_blank\" title=\"Instagram\"></a></li>]"
      ]
     },
     "execution_count": 73,
     "metadata": {},
     "output_type": "execute_result"
    }
   ],
   "source": [
    "soup1.findAll('ul')[7].findAll('li')"
   ]
  },
  {
   "cell_type": "code",
   "execution_count": 76,
   "metadata": {},
   "outputs": [],
   "source": [
    "features = [feat.text.strip().split('\\n')[0].upper() for feat in soup1.find('div', class_='talent-meta').findAll('li')]\n",
    "values = [feat.text.strip().split('\\n')[1].strip() for feat in soup1.find('div', class_='talent-meta').findAll('li')]"
   ]
  },
  {
   "cell_type": "code",
   "execution_count": 75,
   "metadata": {},
   "outputs": [
    {
     "data": {
      "text/plain": [
       "['180 cm', '83 cm', '68 cm', '95 cm', '8', '9', 'Brown', 'Brown']"
      ]
     },
     "execution_count": 75,
     "metadata": {},
     "output_type": "execute_result"
    }
   ],
   "source": [
    "values"
   ]
  },
  {
   "cell_type": "code",
   "execution_count": 66,
   "metadata": {},
   "outputs": [],
   "source": [
    "list_to_csv(models_details)"
   ]
  }
 ],
 "metadata": {
  "kernelspec": {
   "display_name": "Python 3",
   "language": "python",
   "name": "python3"
  },
  "language_info": {
   "codemirror_mode": {
    "name": "ipython",
    "version": 3
   },
   "file_extension": ".py",
   "mimetype": "text/x-python",
   "name": "python",
   "nbconvert_exporter": "python",
   "pygments_lexer": "ipython3",
   "version": "3.10.9"
  },
  "orig_nbformat": 4
 },
 "nbformat": 4,
 "nbformat_minor": 2
}
