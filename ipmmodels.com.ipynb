{
 "cells": [
  {
   "cell_type": "code",
   "execution_count": null,
   "metadata": {},
   "outputs": [],
   "source": [
    "\n",
    "import csv, re, requests, os\n",
    "from bs4 import BeautifulSoup\n",
    "basedir = 'ipmmodels.com'\n",
    "urls = ['https://www.ipmmodels.com/results/los-angeles-mainboard/all', 'https://www.ipmmodels.com/results/new-york-mainboard/all', 'https://www.ipmmodels.com/results/miami-mainboard/all']\n",
    "models_details = list()\n"
   ]
  },
  {
   "cell_type": "code",
   "execution_count": null,
   "metadata": {},
   "outputs": [],
   "source": [
    "soups = [BeautifulSoup(requests.get(url).content) for url in urls]"
   ]
  },
  {
   "cell_type": "code",
   "execution_count": null,
   "metadata": {},
   "outputs": [],
   "source": [
    "models = [model['href'] for soup in soups for model in soup.find('div', attrs={'class':'results-grid'}).findAll('a')]\n",
    "\n",
    "raw_names = [model.split('/')[-1] for model in models]\n",
    "names = [\" \".join(i.split('-')) for i in raw_names]\n",
    "models_dict = dict(zip(names, models))\n",
    "models_dict"
   ]
  },
  {
   "cell_type": "code",
   "execution_count": null,
   "metadata": {},
   "outputs": [],
   "source": [
    "def download_pics(pics,k):\n",
    "    regex = re.compile(r\"\\d+\\.jpg\")\n",
    "    for pic in pics:\n",
    "        file = regex.search(pic).group(0)\n",
    "        path = f'{basedir}/{k}/{file}'\n",
    "        if not os.path.exists(path):\n",
    "            with open(path, 'wb') as f:\n",
    "                f.write(requests.get(pic).content)\n",
    "\n",
    "def list_to_csv(lst) -> None:\n",
    "    with open(f\"{basedir}/models_info.csv\",'w') as f:\n",
    "        c = csv.DictWriter(f, [\"NAME\",\"URL\", 'HEIGHT', 'BUST', 'WAIST', 'HIPS','DRESS', 'SHOE', 'EYES','HAIR',\"BOTTOM\",\"TOP\"])\n",
    "        c.writeheader()\n",
    "        for row in lst:\n",
    "            c.writerow(row)\n",
    "\n",
    "\n",
    "def parse(url):\n",
    "    soup1 = BeautifulSoup(requests.get(url).content, 'html5lib')\n",
    "    features = [stat.find('span').text.upper() for stat in soup1.find('div', attrs={'class':'portfolio-page'}).findAll('span', class_='stat')]\n",
    "    values = [stat.find('span', class_='value').text for stat in soup1.find('div', attrs={'class':'portfolio-page'}).findAll('span', class_='stat')]\n",
    "    return dict(zip(features, values))\n",
    "\n"
   ]
  },
  {
   "cell_type": "code",
   "execution_count": null,
   "metadata": {},
   "outputs": [],
   "source": [
    "for k,v in models_dict.items():\n",
    "    k=\" \".join([i.title() for i in k.split()])\n",
    "    print(k,v)\n",
    "    os.makedirs(f\"{basedir}/{k}\", exist_ok=True)\n",
    "    soup1 = BeautifulSoup(requests.get(v).content, 'html5lib')\n",
    "    pics=[url.get('data-thumb') for url in soup1.find('div', attrs={'class':'portfolio-page'}).findAll('a') if url.get('data-thumb')!=None]\n",
    "    feat_dict = {'NAME':k,'URL':v }\n",
    "    feat_dict.update(parse(v))\n",
    "    models_details.append(feat_dict)\n",
    "    download_pics(pics, k)\n"
   ]
  },
  {
   "cell_type": "code",
   "execution_count": null,
   "metadata": {},
   "outputs": [],
   "source": []
  },
  {
   "cell_type": "code",
   "execution_count": null,
   "metadata": {},
   "outputs": [],
   "source": [
    "\n",
    "list_to_csv(models_details)"
   ]
  }
 ],
 "metadata": {
  "kernelspec": {
   "display_name": "Python 3",
   "language": "python",
   "name": "python3"
  },
  "language_info": {
   "codemirror_mode": {
    "name": "ipython",
    "version": 3
   },
   "file_extension": ".py",
   "mimetype": "text/x-python",
   "name": "python",
   "nbconvert_exporter": "python",
   "pygments_lexer": "ipython3",
   "version": "3.10.9"
  },
  "orig_nbformat": 4
 },
 "nbformat": 4,
 "nbformat_minor": 2
}
