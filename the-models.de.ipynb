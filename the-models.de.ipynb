{
  "cells": [
    {
      "cell_type": "code",
      "execution_count": null,
      "metadata": {
        "colab": {
          "base_uri": "https://localhost:8080/"
        },
        "id": "BrYTVhy7evWR",
        "outputId": "82a6c480-5a8e-412f-dfb5-4bf886933cd6"
      },
      "outputs": [
        {
          "ename": "",
          "evalue": "",
          "output_type": "error",
          "traceback": [
            "\u001b[1;31mFailed to start the Kernel. \n",
            "\u001b[1;31mUnable to start Kernel 'Python 3.10.9' due to connection timeout. \n",
            "\u001b[1;31mView Jupyter <a href='command:jupyter.viewOutput'>log</a> for further details."
          ]
        }
      ],
      "source": [
        "%pip install fake_useragent\n",
        "import  csv, fake_useragent, os, requests, time\n",
        "from bs4 import BeautifulSoup\n",
        "\n",
        "url ='https://www.the-models.de'\n",
        "url2 = [f'{url}/damen/seite/{num}' for num in range(2,16)]\n",
        "url2.insert(0,url)\n",
        "basedir = \"the-models.de\""
      ]
    },
    {
      "cell_type": "code",
      "execution_count": 36,
      "metadata": {
        "colab": {
          "base_uri": "https://localhost:8080/"
        },
        "id": "eXCHoNROevWV",
        "outputId": "a9daa55a-4897-44b6-fe7c-47deeea46dbe"
      },
      "outputs": [
        {
          "name": "stdout",
          "output_type": "stream",
          "text": [
            "Mozilla/5.0 (compatible; MSIE 8.0; Windows NT 5.1; Trident/4.0; InfoPath.2; SLCC1; .NET CLR 3.0.4506.2152; .NET CLR 3.5.30729; .NET CLR 2.0.50727)\n",
            "['https://www.the-models.de', 'https://www.the-models.de/damen/seite/2', 'https://www.the-models.de/damen/seite/3', 'https://www.the-models.de/damen/seite/4', 'https://www.the-models.de/damen/seite/5', 'https://www.the-models.de/damen/seite/6', 'https://www.the-models.de/damen/seite/7', 'https://www.the-models.de/damen/seite/8', 'https://www.the-models.de/damen/seite/9', 'https://www.the-models.de/damen/seite/10', 'https://www.the-models.de/damen/seite/11', 'https://www.the-models.de/damen/seite/12', 'https://www.the-models.de/damen/seite/13', 'https://www.the-models.de/damen/seite/14', 'https://www.the-models.de/damen/seite/15']\n"
          ]
        }
      ],
      "source": [
        "ua = fake_useragent.UserAgent()\n",
        "print(url2)\n",
        "error_dict=dict()"
      ]
    },
    {
      "cell_type": "code",
      "execution_count": 42,
      "metadata": {
        "id": "cxtH-bXHevWZ"
      },
      "outputs": [],
      "source": [
        "\n",
        "# FUNCS\n",
        "def download_pics(pics:list, k)-> None:\n",
        "        for link in pics:\n",
        "            path = f\"{basedir}/{k}/{link.split('/')[-1]}\"\n",
        "            if not os.path.exists(path):\n",
        "                with open(path, 'wb') as f:\n",
        "                        f.write(requests.get(link).content)\n",
        "\n",
        "def parse(lst : list,) -> dict:\n",
        "    model_info = dict()\n",
        "    translate = [\"HEIGHT\", \"DRESS\", \"BUST\", \"CUP SIZE\",\"WAIST\",\"SHOE\",\"HIP\",\"HAIR\"]\n",
        "    for i,val in enumerate(lst[:-1]):\n",
        "        val=val.split()\n",
        "        model_info[translate[i]] = \"\".join(val[1:])\n",
        "    return model_info\n",
        "\n",
        "models_details = list()"
      ]
    },
    {
      "cell_type": "code",
      "execution_count": 44,
      "metadata": {
        "id": "a7Us4xGKevWb"
      },
      "outputs": [],
      "source": [
        "        \n",
        "def scrape(link):\n",
        "  try:\n",
        "    soup = BeautifulSoup(requests.get(link, headers = {'User-Agent': ua.random}).content, 'html5lib')\n",
        "    models = soup.findAll('div', class_='box-bild-20-prozent')\n",
        "    models_name = [name.text.strip() for name in models]\n",
        "    models_link = [link.a['href'] for link in models]\n",
        "    models_dict = dict(zip(models_name,models_link))\n",
        "    models_dict\n",
        "\n",
        "\n",
        "    for k,v in models_dict.items():\n",
        "      print(k)\n",
        "      os.makedirs(f\"{basedir}/{k}\", exist_ok=True)\n",
        "      soup1 = BeautifulSoup(requests.get(f\"{url}{v}\",headers = {'User-Agent': ua.random}).content, 'html5lib')\n",
        "      pics = [pic['href'] for pic in soup1.find('div', class_='grid').findAll('a')]\n",
        "      raw_features = [feature for feat in soup1.find('div', class_='sedcard-details-box-1').findAll('div') for feature in feat.text.strip().split('\\n') ]\n",
        "      feat_dict = parse(raw_features)\n",
        "      feat_dict['NAME'] = k\n",
        "      feat_dict['URL'] = v\n",
        "      download_pics(pics, k)\n",
        "\n",
        "\n",
        "        \n",
        "      models_details.append(feat_dict)\n",
        "  except Exception as e:\n",
        "    error_dict[link]= str(e)\n",
        "  print(f\"Link: {link}\\tModels {len(models_details)}\")"
      ]
    },
    {
      "cell_type": "code",
      "execution_count": null,
      "metadata": {
        "colab": {
          "base_uri": "https://localhost:8080/",
          "height": 1000
        },
        "id": "ZslNN3PZevWd",
        "outputId": "cf7472c0-2b5e-4a68-f724-272583f908a5"
      },
      "outputs": [],
      "source": [
        "# THE MAIN CELL\n",
        "for link in url2:\n",
        "    scrape(link)\n",
        "    time.sleep(5)"
      ]
    },
    {
      "cell_type": "markdown",
      "metadata": {
        "id": "PYLZSWLJevWe"
      },
      "source": [
        "\"HEIGHT\", \"DRESS\", \"BUST\", \"CUP SIZE\",\"WAIST\",\"SHOE\",\"HIP\",\"HAIR\"\n"
      ]
    },
    {
      "cell_type": "code",
      "execution_count": 47,
      "metadata": {
        "id": "cuJJhPQ4evWi"
      },
      "outputs": [],
      "source": [
        "def list_to_csv(lst):\n",
        "    with open(f\"{basedir}/models_info.csv\",'w') as f:\n",
        "        c = csv.DictWriter(f, [\"NAME\",\"URL\",\"HEIGHT\", \"DRESS\", \"BUST\", \"CUP SIZE\",\"WAIST\",\"SHOE\",\"HIP\",\"HAIR\"])\n",
        "        c.writeheader()\n",
        "        for row in lst:\n",
        "            c.writerow(row)\n",
        "list_to_csv(models_details)"
      ]
    },
    {
      "cell_type": "code",
      "execution_count": 1,
      "metadata": {
        "colab": {
          "base_uri": "https://localhost:8080/"
        },
        "id": "MvdWwPDrevWk",
        "outputId": "82a11915-fa90-49c9-8bd3-e942a73799dc"
      },
      "outputs": [
        {
          "ename": "NameError",
          "evalue": "name 'error_dict' is not defined",
          "output_type": "error",
          "traceback": [
            "\u001b[1;31m---------------------------------------------------------------------------\u001b[0m",
            "\u001b[1;31mNameError\u001b[0m                                 Traceback (most recent call last)",
            "Cell \u001b[1;32mIn[1], line 1\u001b[0m\n\u001b[1;32m----> 1\u001b[0m \u001b[39mprint\u001b[39m(error_dict)\n",
            "\u001b[1;31mNameError\u001b[0m: name 'error_dict' is not defined"
          ]
        }
      ],
      "source": [
        "print(error_dict)"
      ]
    }
  ],
  "metadata": {
    "colab": {
      "provenance": []
    },
    "kernelspec": {
      "display_name": "Python 3",
      "language": "python",
      "name": "python3"
    },
    "language_info": {
      "codemirror_mode": {
        "name": "ipython",
        "version": 3
      },
      "file_extension": ".py",
      "mimetype": "text/x-python",
      "name": "python",
      "nbconvert_exporter": "python",
      "pygments_lexer": "ipython3",
      "version": "3.10.9"
    },
    "orig_nbformat": 4,
    "vscode": {
      "interpreter": {
        "hash": "abd831dd4d00d340afa9e767b46e329f8e65c4879bb830616b9e2acef8d75f4a"
      }
    }
  },
  "nbformat": 4,
  "nbformat_minor": 0
}
