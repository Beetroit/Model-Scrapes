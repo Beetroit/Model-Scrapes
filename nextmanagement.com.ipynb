{
 "cells": [
  {
   "cell_type": "code",
   "execution_count": 2,
   "metadata": {},
   "outputs": [],
   "source": [
    "import csv, requests, os\n",
    "from bs4 import BeautifulSoup\n",
    "base_url = 'https://www.nextmanagement.com'\n",
    "basedir ='nextmanagement.com'\n",
    "models_details=list()\n",
    "url = 'https://www.nextmanagement.com/new-york/models?tagged=women'\n",
    "resp = requests.get(url)"
   ]
  },
  {
   "cell_type": "code",
   "execution_count": 5,
   "metadata": {},
   "outputs": [],
   "source": [
    "soup = BeautifulSoup(resp.content, 'html5lib')"
   ]
  },
  {
   "cell_type": "code",
   "execution_count": 6,
   "metadata": {},
   "outputs": [],
   "source": [
    "\n",
    "models_dict = {model.h2.text.strip():base_url+model.a['href'] for model in soup.findAll('article', class_='talent')}"
   ]
  },
  {
   "cell_type": "code",
   "execution_count": 12,
   "metadata": {},
   "outputs": [],
   "source": [
    "\n",
    "def parse(soup1):\n",
    "    values = [val.text.split('/')[1] if '/' in val.text else val.text for val in  soup1.find('ul', class_='sidebar_list').findAll('span', class_='value')[:7]]\n",
    "    features = [ feat.text.upper() for feat in soup1.find('ul', class_='sidebar_list').findAll('h2')[:7]]\n",
    "    return dict(zip(features, values))\n",
    "\n",
    "def download_pics(pics):\n",
    "    for pic in pics:\n",
    "        path = f\"{basedir}/{k}/{pic['alt']}.jpg\"\n",
    "        if not os.path.exists(path):\n",
    "            with open(path, 'wb') as f:\n",
    "                f.write(requests.get(pic['src']).content)\n",
    "\n",
    "\n",
    "def list_to_csv(lst):\n",
    "    with open(f\"{basedir}/models_info.csv\",'w') as f:\n",
    "        c = csv.DictWriter(f, [\"NAME\",\"URL\", \"HEIGHT\", \"BUST\",\"WAIST\",\"HIPS\" ,\"EYES\",\"HAIR\", \"SHOE\"])\n",
    "        c.writeheader()\n",
    "        for row in lst:\n",
    "            c.writerow(row)\n",
    "\n"
   ]
  },
  {
   "cell_type": "code",
   "execution_count": 9,
   "metadata": {},
   "outputs": [
    {
     "name": "stdout",
     "output_type": "stream",
     "text": [
      "Abbey Lee https://www.nextmanagement.com/new-york/profile/abbey-lee\n"
     ]
    }
   ],
   "source": [
    "for k,v in models_dict.items():\n",
    "    os.makedirs(f\"{basedir}/{k}\", exist_ok=True)\n",
    "    print(k,v)\n",
    "    soup1 = BeautifulSoup(requests.get(v).content, 'html5lib')\n",
    "    feat_dict= {'NAME':k, 'URL':v}\n",
    "    feat_dict.update(parse(soup1))\n",
    "    pics = soup1.find('ul', class_='images').findAll('img')\n",
    "    models_details.append(feat_dict)\n",
    "    download_pics(pics)"
   ]
  },
  {
   "cell_type": "code",
   "execution_count": 10,
   "metadata": {},
   "outputs": [],
   "source": [
    "list_to_csv(models_details)"
   ]
  }
 ],
 "metadata": {
  "kernelspec": {
   "display_name": "Python 3",
   "language": "python",
   "name": "python3"
  },
  "language_info": {
   "codemirror_mode": {
    "name": "ipython",
    "version": 3
   },
   "file_extension": ".py",
   "mimetype": "text/x-python",
   "name": "python",
   "nbconvert_exporter": "python",
   "pygments_lexer": "ipython3",
   "version": "3.10.9"
  },
  "orig_nbformat": 4
 },
 "nbformat": 4,
 "nbformat_minor": 2
}
