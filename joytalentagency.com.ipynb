{
 "cells": [
  {
   "cell_type": "code",
   "execution_count": null,
   "metadata": {},
   "outputs": [],
   "source": [
    "import requests, csv, os, re\n",
    "from bs4 import BeautifulSoup\n",
    "url = 'https://www.joytalentagency.com/results/models-women-mainboard/women'"
   ]
  },
  {
   "cell_type": "code",
   "execution_count": null,
   "metadata": {},
   "outputs": [],
   "source": [
    "r =requests.get(url)\n",
    "soup = BeautifulSoup(r.text, 'html5lib')"
   ]
  },
  {
   "cell_type": "code",
   "execution_count": null,
   "metadata": {},
   "outputs": [],
   "source": [
    "links = soup.find('div', {\"class\":\"results-grid\"}).findAll('a')\n",
    "names = soup.findAll('div',{'class':'name'})\n",
    "model_names = [name.text.strip().replace('\\n',' ') for name in names]\n",
    "model_links = [link['href'] for link in links]\n",
    "models_dict =  dict(zip(model_names,model_links))\n",
    "models_details=list()"
   ]
  },
  {
   "cell_type": "code",
   "execution_count": null,
   "metadata": {},
   "outputs": [],
   "source": [
    "models_dict"
   ]
  },
  {
   "cell_type": "code",
   "execution_count": null,
   "metadata": {},
   "outputs": [],
   "source": [
    "for k,v in models_dict.items():\n",
    "    os.makedirs(f\"joytalentagency.com/{k}\",exist_ok=True)\n",
    "    soup1 = BeautifulSoup(requests.get(v).content,'html5lib')\n",
    "    stats =soup1.find('div',{'class':'stats none'})\n",
    "    feature = [feat.text for feat in stats.findAll('span',{'class':'stat-label'})]\n",
    "    value = [val.text for val in stats.findAll('span',{'class':'value'})]\n",
    "\n",
    "    stats_dict = dict(zip(feature,value))\n",
    "    stats_dict['NAME'] = k\n",
    "    stats_dict['URL'] = v\n",
    "    images = soup1.find('div',{'class':'portfolio-page'}).findAll('a',{'class':'custom-fancybox-slider'})\n",
    "    patt=r\"\\d+.jpg\"\n",
    "    print(len([i for i in images]))\n",
    "    for i in images:\n",
    "        img_link=i['href']\n",
    "        print(img_link)\n",
    "        filename=re.search(patt,img_link).group(0)\n",
    "        path = f\"joytalentagency.com/{k}/{filename}\"\n",
    "        if not os.path.exists(path):\n",
    "            with open(path,'wb') as f:\n",
    "                f.write(requests.get(img_link).content)\n",
    "    models_details.append(stats_dict)\n",
    "print(models_details[0])\n",
    "print(len(models_details))\n",
    "\n",
    "with open(f\"./joytalentagency.com/models_info.csv\",'w') as f:\n",
    "    c = csv.DictWriter(f, ['NAME','URL','HEIGHT','BUST','WAIST','HIPS','DRESS','SHOE','HAIR','EYES'])\n",
    "    c.writeheader()\n",
    "    for row in models_details:\n",
    "        c.writerow(row)"
   ]
  }
 ],
 "metadata": {
  "kernelspec": {
   "display_name": "Python 3",
   "language": "python",
   "name": "python3"
  },
  "language_info": {
   "codemirror_mode": {
    "name": "ipython",
    "version": 3
   },
   "file_extension": ".py",
   "mimetype": "text/x-python",
   "name": "python",
   "nbconvert_exporter": "python",
   "pygments_lexer": "ipython3",
   "version": "3.10.9"
  },
  "orig_nbformat": 4
 },
 "nbformat": 4,
 "nbformat_minor": 2
}
