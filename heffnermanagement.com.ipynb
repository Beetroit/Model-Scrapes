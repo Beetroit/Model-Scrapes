{
 "cells": [
  {
   "cell_type": "code",
   "execution_count": 135,
   "metadata": {},
   "outputs": [],
   "source": [
    "import requests, csv, os,time,re\n",
    "from  bs4 import BeautifulSoup\n",
    "url = \"https://www.heffnermanagement.com/ashx/autocomplete.ashx\"\n",
    "basedir = 'heffnermanagement.com'\n",
    "base_url = 'https://www.heffnermanagement.com'\n",
    "models_details=list()"
   ]
  },
  {
   "cell_type": "code",
   "execution_count": 53,
   "metadata": {},
   "outputs": [],
   "source": [
    "response = requests.get(url)"
   ]
  },
  {
   "cell_type": "code",
   "execution_count": 61,
   "metadata": {},
   "outputs": [],
   "source": [
    "result = response.json()"
   ]
  },
  {
   "cell_type": "code",
   "execution_count": 74,
   "metadata": {},
   "outputs": [],
   "source": [
    "\n",
    "models_dict={i[\"label\"]:base_url+i['url'] for i in result if i['subname']=='Plus,'}"
   ]
  },
  {
   "cell_type": "code",
   "execution_count": 138,
   "metadata": {},
   "outputs": [],
   "source": [
    "def download_pics(pics):\n",
    "    for pic in pics:\n",
    "        regex= re.search('\\d+.jpg',pic).group(0)\n",
    "        path = f\"{basedir}/{k}/{regex}\"\n",
    "        if not os.path.exists(path):\n",
    "            with open(path, 'wb') as f:\n",
    "                f.write(requests.get(pic).content)\n",
    "\n",
    "\n",
    "def get_model(model_id):\n",
    "    milisec = int(time.time() * 1000)\n",
    "    headers = {\n",
    "        'authority': 'www.heffnermanagement.com',\n",
    "        'accept': '*/*',\n",
    "        'accept-language': 'en-US,en;q=0.9',\n",
    "        'cookie': 'ASP.NET_SessionId=cvkvmglhppyeiel3qi4q5zkp',\n",
    "        'dnt': '1',\n",
    "        'referer': 'https://www.heffnermanagement.com/Portfolio/women/plus/women/1491251/adrianna-moss',\n",
    "        'sec-ch-ua': '^\\\\^Microsoft',\n",
    "        'sec-ch-ua-mobile': '?0',\n",
    "        'sec-ch-ua-platform': '^\\\\^Windows^\\\\^',\n",
    "        'sec-fetch-dest': 'empty',\n",
    "        'sec-fetch-mode': 'cors',\n",
    "        'sec-fetch-site': 'same-origin',\n",
    "        'sec-gpc': '1',\n",
    "        'user-agent': 'Mozilla/5.0 (Windows NT 10.0; Win64; x64) AppleWebKit/537.36 (KHTML, like Gecko) Chrome/113.0.0.0 Safari/537.36 Edg/113.0.1774.42',\n",
    "        'x-requested-with': 'XMLHttpRequest',\n",
    "    }\n",
    "\n",
    "    params = (\n",
    "        ('getResultsFrom', '1'),\n",
    "        ('getResultsTo', '24'),\n",
    "        ('division', 'women'),\n",
    "        ('board', 'plus'),\n",
    "        ('gender', 'women'),\n",
    "        ('modelid', model_id),\n",
    "        ('page', 'portfolio'),\n",
    "        ('indx', '0'),\n",
    "        ('_', milisec),\n",
    "    )\n",
    "\n",
    "    response = requests.get('https://www.heffnermanagement.com/Ajax/getPortfolioImgs.aspx', headers=headers, params=params)\n",
    "    return response.content\n",
    "\n",
    "def list_to_csv(lst):\n",
    "    with open(f\"{basedir}/models_info.csv\",'w') as f:\n",
    "        c = csv.DictWriter(f, [\"NAME\",\"URL\", \"HEIGHT\", \"BUST\",\"WAIST\",\"HIP\",\"DRESS\" ,\"EYE\",\"HAIR\", \"SHOE\"])\n",
    "        c.writeheader()\n",
    "        for row in lst:\n",
    "            c.writerow(row)"
   ]
  },
  {
   "cell_type": "code",
   "execution_count": null,
   "metadata": {},
   "outputs": [],
   "source": [
    "for k,v in models_dict.items():\n",
    "    os.makedirs(f\"{basedir}/{k}\", exist_ok=True)\n",
    "    print(k, v)\n",
    "    model_id=re.findall(r'\\d+',v)[0]\n",
    "    soup = BeautifulSoup(requests.get(v).content, 'html5lib')\n",
    "    feat_dict = {'NAME':k, \"URL\":v}\n",
    "    feat_dict.update({i.text.split(':')[0].upper():i.text.split(':')[1] for i in soup.find('div', class_='modelStats').findAll('span')})\n",
    "    soup = BeautifulSoup(get_model(model_id), 'html5lib')\n",
    "    pics = [pic.img['src'] for pic in soup.findAll('div',class_='grid-item P')]\n",
    "    download_pics(pics)\n",
    "    models_details.append(feat_dict)\n",
    "\n",
    "\n"
   ]
  },
  {
   "cell_type": "code",
   "execution_count": 139,
   "metadata": {},
   "outputs": [],
   "source": [
    "list_to_csv(models_details)"
   ]
  }
 ],
 "metadata": {
  "kernelspec": {
   "display_name": "Python 3",
   "language": "python",
   "name": "python3"
  },
  "language_info": {
   "codemirror_mode": {
    "name": "ipython",
    "version": 3
   },
   "file_extension": ".py",
   "mimetype": "text/x-python",
   "name": "python",
   "nbconvert_exporter": "python",
   "pygments_lexer": "ipython3",
   "version": "3.10.9"
  },
  "orig_nbformat": 4
 },
 "nbformat": 4,
 "nbformat_minor": 2
}
