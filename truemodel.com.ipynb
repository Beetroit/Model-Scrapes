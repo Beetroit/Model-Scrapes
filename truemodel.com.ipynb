{
 "cells": [
  {
   "cell_type": "code",
   "execution_count": 1,
   "metadata": {},
   "outputs": [],
   "source": [
    "import csv,re, requests, os\n",
    "from bs4 import BeautifulSoup\n",
    "\n",
    "url = 'https://www.truemodel.com/results/women-main/women'\n",
    "basedir = 'truemodel.com'\n",
    "models_details = list()"
   ]
  },
  {
   "cell_type": "code",
   "execution_count": 2,
   "metadata": {},
   "outputs": [],
   "source": [
    "soup = BeautifulSoup(requests.get(url).content, 'html5lib')"
   ]
  },
  {
   "cell_type": "code",
   "execution_count": 3,
   "metadata": {},
   "outputs": [],
   "source": [
    "urls = [url['href'] for url in soup.find('ul', class_='dropdown-menu').findAll('a')]\n",
    "soups = [BeautifulSoup(requests.get(url).content, 'html5lib') for url in urls]\n",
    "\n",
    "model_urls = [link['href'] for soup in soups for link in soup.find('div', class_='results-grid').findAll('a')]\n",
    "model_names = [name.find('div', class_='name').text.strip().replace(' ','').replace('\\n',' ') for soup in soups for name in soup.find('div', class_='results-grid').findAll('a')]\n"
   ]
  },
  {
   "cell_type": "code",
   "execution_count": 4,
   "metadata": {},
   "outputs": [
    {
     "data": {
      "text/plain": [
       "'https://www.truemodel.com/portfolio/women-main/women/1995345/the-goza-twins'"
      ]
     },
     "execution_count": 4,
     "metadata": {},
     "output_type": "execute_result"
    }
   ],
   "source": [
    "\n",
    "models_dict = dict(zip(model_names, model_urls))\n",
    "models_dict.pop('TheGozaTwins')\n"
   ]
  },
  {
   "cell_type": "code",
   "execution_count": 5,
   "metadata": {},
   "outputs": [
    {
     "data": {
      "text/plain": [
       "147"
      ]
     },
     "execution_count": 5,
     "metadata": {},
     "output_type": "execute_result"
    }
   ],
   "source": [
    "len(models_dict)"
   ]
  },
  {
   "cell_type": "code",
   "execution_count": 14,
   "metadata": {},
   "outputs": [],
   "source": [
    "def parse(soup: BeautifulSoup) -> dict:\n",
    "    features = [feat.text.upper() for feat in soup.find('div', class_='stats').findAll('span', class_='stat-label')]\n",
    "    value = [val.text.strip() for val in soup.find('div', class_='stats').findAll('span', class_='value')]\n",
    "    return dict(zip(features,value))\n",
    "def download_pics(pics):\n",
    "    patt=r\"\\d+.jpg\"\n",
    "    for pic in pics:\n",
    "        regex = re.search(patt, pic).group(0)\n",
    "        path = f\"{basedir}/{k}/{regex}\"\n",
    "        if not os.path.exists(path):\n",
    "            with open(path, 'wb') as f:\n",
    "                f.write(requests.get(pic).content)\n",
    "def list_to_csv(lst):\n",
    "    with open(f\"{basedir}/models_info.csv\",'w') as f:\n",
    "        c = csv.DictWriter(f, [\"NAME\",\"URL\", \"HEIGHT\", \"BUST\",\"WAIST\",\"HIPS\",\"DRESS\" ,\"EYES\",\"HAIR\", \"SHOE\"])\n",
    "        c.writeheader()\n",
    "        for row in lst:\n",
    "            c.writerow(row)"
   ]
  },
  {
   "cell_type": "code",
   "execution_count": 12,
   "metadata": {},
   "outputs": [],
   "source": [
    "for k,v in models_dict.items():\n",
    "    os.makedirs(f\"{basedir}/{k}\",exist_ok=True)\n",
    "    soup=BeautifulSoup(requests.get(v).content, 'html5lib')\n",
    "    pics = [pic['data-thumb'] for pic in soup.find('div', {'class': 'row'}).findAll('a') ]\n",
    "    download_pics(pics)\n",
    "    feat_dict = {'NAME':k, \"URL\":v}\n",
    "    feat_dict.update(parse(soup))\n",
    "    models_details.append(feat_dict)\n"
   ]
  },
  {
   "cell_type": "code",
   "execution_count": 13,
   "metadata": {},
   "outputs": [],
   "source": [
    "list_to_csv(models_details)"
   ]
  }
 ],
 "metadata": {
  "kernelspec": {
   "display_name": "Python 3",
   "language": "python",
   "name": "python3"
  },
  "language_info": {
   "codemirror_mode": {
    "name": "ipython",
    "version": 3
   },
   "file_extension": ".py",
   "mimetype": "text/x-python",
   "name": "python",
   "nbconvert_exporter": "python",
   "pygments_lexer": "ipython3",
   "version": "3.10.9"
  },
  "orig_nbformat": 4
 },
 "nbformat": 4,
 "nbformat_minor": 2
}
