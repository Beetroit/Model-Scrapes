{
 "cells": [
  {
   "cell_type": "code",
   "execution_count": null,
   "metadata": {},
   "outputs": [],
   "source": [
    "import requests, csv, os\n",
    "from bs4 import BeautifulSoup\n",
    "url = 'https://www.dtmodelmanagement.com/women/'\n",
    "link='dtmodelmanagement.com'"
   ]
  },
  {
   "cell_type": "code",
   "execution_count": null,
   "metadata": {},
   "outputs": [],
   "source": [
    "soup = BeautifulSoup(requests.get(url).text,'html5lib')\n",
    "models = soup.find('div',attrs={'id':'navigation'}).findAll('div',attrs={'class':'listElement'})\n",
    "model_names = [i.img['alt'] for i in models]\n",
    "model_links = [f\"{i.a['href']}stats\" for i in models]\n",
    "models_dict=dict(zip(model_names,model_links))\n",
    "models_details=[]\n",
    "print(f\"{len(models_dict)} models\")\n"
   ]
  },
  {
   "cell_type": "code",
   "execution_count": null,
   "metadata": {},
   "outputs": [],
   "source": [
    "if not os.path.exists(link):\n",
    "    os.mkdir(link)\n",
    "for k,v in models_dict.items():\n",
    "    os.makedirs(f\"{link}/{k}\", exist_ok=True)\n",
    "    model_info={}\n",
    "    model_info['NAME'] = k\n",
    "    model_info['URL'] = v\n",
    "    print(k,v)\n",
    "    soup2 = BeautifulSoup(requests.get(v).text,'html5lib')\n",
    "    for i in soup2.find('div',{'class':'measurement'}).findAll('li'):\n",
    "        info = i.text.split(':')\n",
    "        model_info[info[0]]=info[1].strip(\"'\")\n",
    "    for i in soup2.findAll('div',{'class':'picture-container'}):\n",
    "        lnk = i.img['data-original']\n",
    "        file_path =f\"{link}/{k}/{lnk.split('/')[-1]}\"\n",
    "        if '?' in file_path:\n",
    "            file_path = file_path.split('?')[0]\n",
    "        if not os.path.exists(file_path):\n",
    "            try:\n",
    "                with open(file_path,'wb') as f:\n",
    "                    f.write(requests.get(link).content)\n",
    "            except:\n",
    "                print(\"PROBABLE FILE SYSTEM ERROR ENCOUNTERED\")\n",
    "    models_details.append(model_info)\n",
    "print(models_details)\n"
   ]
  },
  {
   "cell_type": "code",
   "execution_count": null,
   "metadata": {},
   "outputs": [],
   "source": [
    "\n",
    "with open(f\"./{link}/models_info.csv\",'w') as f:\n",
    "    c = csv.DictWriter(f, ['NAME','URL','HEIGHT','BUST','WAIST','HIPS','DRESS','SHOES','EYES','HAIR'])\n",
    "    c.writeheader()\n",
    "    for row in models_details:\n",
    "        c.writerow(row)"
   ]
  }
 ],
 "metadata": {
  "kernelspec": {
   "display_name": "Python 3",
   "language": "python",
   "name": "python3"
  },
  "language_info": {
   "codemirror_mode": {
    "name": "ipython",
    "version": 3
   },
   "file_extension": ".py",
   "mimetype": "text/x-python",
   "name": "python",
   "nbconvert_exporter": "python",
   "pygments_lexer": "ipython3",
   "version": "3.10.9"
  },
  "orig_nbformat": 4
 },
 "nbformat": 4,
 "nbformat_minor": 2
}
