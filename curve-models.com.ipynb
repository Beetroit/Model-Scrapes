{
 "cells": [
  {
   "cell_type": "code",
   "execution_count": 2,
   "metadata": {},
   "outputs": [],
   "source": [
    "%pip install fake_useragent\n",
    "import  csv, fake_useragent, os, requests, time\n",
    "from bs4 import BeautifulSoup\n",
    "url ='https://www.curve-models.com/women/main'\n",
    "basedir = \"curve-models.com\"\n",
    "models_details = list()\n"
   ]
  },
  {
   "cell_type": "code",
   "execution_count": 84,
   "metadata": {},
   "outputs": [],
   "source": [
    "def download_pics(url, k):\n",
    "    soup = BeautifulSoup(requests.get(url).content, 'html5lib')\n",
    "    pics = [link['data-src'] for link in soup.find('div', class_ = 'bookMobile').find_all('img', class_='bookPictureMobile')]\n",
    "    for pic in pics:\n",
    "        path = f\"{basedir}/{k}/{pic.split('/')[-1]}\"\n",
    "        if not os.path.exists(path):\n",
    "            with open(path, 'wb') as f:\n",
    "                f.write(requests.get(pic).content)\n",
    "\n",
    "def list_to_csv(lst):\n",
    "    with open(f\"{basedir}/models_info.csv\",'w') as f:\n",
    "        c = csv.DictWriter(f, [\"NAME\",\"URL\", \"HEIGHT\", \"BUST\" , \"BRA\", \"CUP\", \"WAIST\", \"HIPS\",\"DRESS\", \"SHOES\"])\n",
    "        c.writeheader()\n",
    "        for row in lst:\n",
    "            c.writerow(row)\n"
   ]
  },
  {
   "cell_type": "code",
   "execution_count": 3,
   "metadata": {},
   "outputs": [],
   "source": [
    "soup = BeautifulSoup(requests.get(url).content, 'html5lib')\n",
    "models = soup.find('div', {\"class\":'listElements'}).findAll('div', class_='listElement')\n",
    "links = [link.a['href'] for link in models]\n",
    "names = [name.a['title'] for name in models]\n",
    "models_dict = dict(zip(names, links))\n",
    "len(models_dict)"
   ]
  },
  {
   "cell_type": "code",
   "execution_count": 82,
   "metadata": {},
   "outputs": [
    {
     "name": "stdout",
     "output_type": "stream",
     "text": [
      "Alegra https://www.curve-models.com/women/main/678-alegra/\n",
      "{'NAME': 'Alegra', 'URL': 'https://www.curve-models.com/women/main/678-alegra/', 'HEIGHT': '176 cm', 'BUST': '103 cm', 'BRA': '85 cm', 'CUP': 'D', 'WAIST': '89 cm', 'HIPS': '111.5 cm', 'DRESS': '42-44', 'SHOES': '40.5'}\n"
     ]
    }
   ],
   "source": [
    "for k,v in models_dict.items():\n",
    "    feat_dict = dict()\n",
    "    feat_dict[\"NAME\"] = k\n",
    "    feat_dict['URL'] = v\n",
    "    os.makedirs(f\"{basedir}/{k}\", exist_ok=True)\n",
    "    print(k, v)\n",
    "    download_pics(v,k=k)\n",
    "    soup1 = BeautifulSoup(requests.get(v).content, 'html5lib')\n",
    "    features = soup1.find('tbody') \n",
    "    feats=[feat.text.upper() for feat in features.findAll('td', {'class': 'bookNameMeasurement'})]\n",
    "    values = [val.text for val in features.findAll('td', {'class':'bookMeasurement'})]\n",
    "    feat_dict.update(dict(zip(feats, values)))\n",
    "    models_details.append(feat_dict)"
   ]
  },
  {
   "cell_type": "code",
   "execution_count": 85,
   "metadata": {},
   "outputs": [
    {
     "ename": "ValueError",
     "evalue": "dict contains fields not in fieldnames: 'Hips', 'Shoes', 'Dress', 'Bust', 'Waist', 'Height', 'Cup', 'Bra'",
     "output_type": "error",
     "traceback": [
      "\u001b[1;31m---------------------------------------------------------------------------\u001b[0m",
      "\u001b[1;31mValueError\u001b[0m                                Traceback (most recent call last)",
      "Cell \u001b[1;32mIn[85], line 1\u001b[0m\n\u001b[1;32m----> 1\u001b[0m list_to_csv(models_details)\n",
      "Cell \u001b[1;32mIn[84], line 15\u001b[0m, in \u001b[0;36mlist_to_csv\u001b[1;34m(lst)\u001b[0m\n\u001b[0;32m     13\u001b[0m c\u001b[39m.\u001b[39mwriteheader()\n\u001b[0;32m     14\u001b[0m \u001b[39mfor\u001b[39;00m row \u001b[39min\u001b[39;00m lst:\n\u001b[1;32m---> 15\u001b[0m     c\u001b[39m.\u001b[39;49mwriterow(row)\n",
      "File \u001b[1;32mc:\\Users\\CryptoKellz\\AppData\\Local\\Programs\\Python\\Python310\\lib\\csv.py:154\u001b[0m, in \u001b[0;36mDictWriter.writerow\u001b[1;34m(self, rowdict)\u001b[0m\n\u001b[0;32m    153\u001b[0m \u001b[39mdef\u001b[39;00m \u001b[39mwriterow\u001b[39m(\u001b[39mself\u001b[39m, rowdict):\n\u001b[1;32m--> 154\u001b[0m     \u001b[39mreturn\u001b[39;00m \u001b[39mself\u001b[39m\u001b[39m.\u001b[39mwriter\u001b[39m.\u001b[39mwriterow(\u001b[39mself\u001b[39;49m\u001b[39m.\u001b[39;49m_dict_to_list(rowdict))\n",
      "File \u001b[1;32mc:\\Users\\CryptoKellz\\AppData\\Local\\Programs\\Python\\Python310\\lib\\csv.py:149\u001b[0m, in \u001b[0;36mDictWriter._dict_to_list\u001b[1;34m(self, rowdict)\u001b[0m\n\u001b[0;32m    147\u001b[0m     wrong_fields \u001b[39m=\u001b[39m rowdict\u001b[39m.\u001b[39mkeys() \u001b[39m-\u001b[39m \u001b[39mself\u001b[39m\u001b[39m.\u001b[39mfieldnames\n\u001b[0;32m    148\u001b[0m     \u001b[39mif\u001b[39;00m wrong_fields:\n\u001b[1;32m--> 149\u001b[0m         \u001b[39mraise\u001b[39;00m \u001b[39mValueError\u001b[39;00m(\u001b[39m\"\u001b[39m\u001b[39mdict contains fields not in fieldnames: \u001b[39m\u001b[39m\"\u001b[39m\n\u001b[0;32m    150\u001b[0m                          \u001b[39m+\u001b[39m \u001b[39m\"\u001b[39m\u001b[39m, \u001b[39m\u001b[39m\"\u001b[39m\u001b[39m.\u001b[39mjoin([\u001b[39mrepr\u001b[39m(x) \u001b[39mfor\u001b[39;00m x \u001b[39min\u001b[39;00m wrong_fields]))\n\u001b[0;32m    151\u001b[0m \u001b[39mreturn\u001b[39;00m (rowdict\u001b[39m.\u001b[39mget(key, \u001b[39mself\u001b[39m\u001b[39m.\u001b[39mrestval) \u001b[39mfor\u001b[39;00m key \u001b[39min\u001b[39;00m \u001b[39mself\u001b[39m\u001b[39m.\u001b[39mfieldnames)\n",
      "\u001b[1;31mValueError\u001b[0m: dict contains fields not in fieldnames: 'Hips', 'Shoes', 'Dress', 'Bust', 'Waist', 'Height', 'Cup', 'Bra'"
     ]
    }
   ],
   "source": [
    "list_to_csv(models_details)"
   ]
  }
 ],
 "metadata": {
  "kernelspec": {
   "display_name": "Python 3",
   "language": "python",
   "name": "python3"
  },
  "language_info": {
   "codemirror_mode": {
    "name": "ipython",
    "version": 3
   },
   "file_extension": ".py",
   "mimetype": "text/x-python",
   "name": "python",
   "nbconvert_exporter": "python",
   "pygments_lexer": "ipython3",
   "version": "3.10.9"
  },
  "orig_nbformat": 4
 },
 "nbformat": 4,
 "nbformat_minor": 2
}
