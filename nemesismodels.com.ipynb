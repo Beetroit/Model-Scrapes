{
 "cells": [
  {
   "cell_type": "code",
   "execution_count": 17,
   "metadata": {},
   "outputs": [],
   "source": [
    "import requests, csv, os\n",
    "from bs4 import BeautifulSoup\n",
    "models_details = list()\n",
    "main_dict=dict()\n",
    "basedir = 'nemesismodels.com'\n",
    "urls = ['https://nemesismodels.com/models/women/mainboard','https://nemesismodels.com/models/women/new-faces', 'https://nemesismodels.com/models/women/curve']"
   ]
  },
  {
   "cell_type": "code",
   "execution_count": 33,
   "metadata": {},
   "outputs": [],
   "source": [
    "def download_pics(url, k) -> None:\n",
    "    soup = BeautifulSoup(requests.get(url).content, 'html5lib')\n",
    "    pics = ['https:'+pic['href'] for pic in soup.find('div', attrs={'class':'model__media'}).findAll('a')]\n",
    "    for pic in pics:\n",
    "        path = f\"{basedir}/{k}/{pic.split('/')[-1]}\"\n",
    "        if not os.path.exists(path):\n",
    "            with open(path, 'wb') as f:\n",
    "                f.write(requests.get(pic).content)\n",
    "\n",
    "def list_to_csv(lst) -> None:\n",
    "    with open(f\"{basedir}/models_info.csv\",'w') as f:\n",
    "        c = csv.DictWriter(f, [\"NAME\",\"URL\", 'HEIGHT', 'BUST', 'CUP', 'WAIST', 'HIPS', 'DRESS', 'SHOE', 'HAIR', 'EYES'])\n",
    "        c.writeheader()\n",
    "        for row in lst:\n",
    "            c.writerow(row)\n",
    "\n",
    "\n",
    "def parse(v) -> dict:\n",
    "    soup = BeautifulSoup(requests.get(v).content)\n",
    "    raw_data = [feat.text.strip() for feat in soup.find('ul', attrs={'class':'model__stats'}).findAll('li')[:-2]]\n",
    "    feats = [feat.split(':')[0].upper() for feat in raw_data]\n",
    "    values = [value.split(':')[1].strip().split('/')[1] if '/' in value else value.split(':')[1].strip() for value in raw_data]\n",
    "    return dict(zip(feats,values))"
   ]
  },
  {
   "cell_type": "code",
   "execution_count": 27,
   "metadata": {},
   "outputs": [
    {
     "name": "stdout",
     "output_type": "stream",
     "text": [
      "86\n",
      "1\n",
      "86\n",
      "2\n",
      "86\n",
      "3\n"
     ]
    }
   ],
   "source": [
    "soups = [BeautifulSoup(requests.get(url).content, 'html5lib') for url in urls]\n",
    "for soup in soups:\n",
    "    models = soup.find('ul', attrs={'class':'models__list'}).findAll('li')\n",
    "    names = [model.findNext('div').findNext('div').h3.text for model in models]\n",
    "    links = [\"https:\"+model.findNext('div').findNext('div').h3.a['href'] for model in models]\n",
    "\n",
    "    main_dict.update(dict(zip(names, links)))\n"
   ]
  },
  {
   "cell_type": "code",
   "execution_count": 16,
   "metadata": {},
   "outputs": [
    {
     "data": {
      "text/plain": [
       "86"
      ]
     },
     "execution_count": 16,
     "metadata": {},
     "output_type": "execute_result"
    }
   ],
   "source": [
    "# THIS MUST BE 86 WHICH MEANS NO ERRORS IN OBTAINING MODELS AND THEIR URLS\n",
    "len(main_dict)"
   ]
  },
  {
   "cell_type": "code",
   "execution_count": null,
   "metadata": {},
   "outputs": [],
   "source": [
    "for k,v in main_dict.items():\n",
    "    print(k,v)\n",
    "    os.makedirs(f\"{basedir}/{k}\", exist_ok=True)\n",
    "    feat_dict = {'NAME':k, 'URL':v}\n",
    "    feat_dict.update(parse(v))\n",
    "    download_pics(v,k)\n",
    "    models_details.append(feat_dict)\n",
    "    "
   ]
  },
  {
   "cell_type": "code",
   "execution_count": 34,
   "metadata": {},
   "outputs": [
    {
     "data": {
      "text/plain": [
       "[{'NAME': 'Ming Savannah',\n",
       "  'URL': 'https://nemesismodels.com/model/ming-savannah/',\n",
       "  'HEIGHT': ' 170cm',\n",
       "  'BUST': ' 81cm',\n",
       "  'CUP': 'D',\n",
       "  'WAIST': ' 60cm',\n",
       "  'HIPS': ' 83cm',\n",
       "  'DRESS': ' 34',\n",
       "  'SHOE': ' 39.5',\n",
       "  'HAIR': 'Black',\n",
       "  'EYES': 'Brown'}]"
      ]
     },
     "execution_count": 34,
     "metadata": {},
     "output_type": "execute_result"
    }
   ],
   "source": [
    "list_to_csv(models_details)\n",
    "len(models_details)"
   ]
  }
 ],
 "metadata": {
  "kernelspec": {
   "display_name": "Python 3",
   "language": "python",
   "name": "python3"
  },
  "language_info": {
   "codemirror_mode": {
    "name": "ipython",
    "version": 3
   },
   "file_extension": ".py",
   "mimetype": "text/x-python",
   "name": "python",
   "nbconvert_exporter": "python",
   "pygments_lexer": "ipython3",
   "version": "3.10.9"
  },
  "orig_nbformat": 4
 },
 "nbformat": 4,
 "nbformat_minor": 2
}
