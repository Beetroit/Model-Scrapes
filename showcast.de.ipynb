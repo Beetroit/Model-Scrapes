{
 "cells": [
  {
   "cell_type": "code",
   "execution_count": 104,
   "metadata": {},
   "outputs": [],
   "source": [
    "# %pip install fake_useragent\n",
    "import  csv, fake_useragent, os, requests, time\n",
    "from bs4 import BeautifulSoup\n",
    "'https://www.showcast.de/models?anrede=Frau&location_radius=10&start=160'\n",
    "url ='https://www.showcast.de/models/?anrede=Frau&location_radius=10'\n",
    "base_url = 'https://www.showcast.de'\n",
    "basedir = \"showcast.de\"\n",
    "page_set = set()\n",
    "main_models_dict = dict()\n",
    "models_details = list()\n"
   ]
  },
  {
   "cell_type": "code",
   "execution_count": 110,
   "metadata": {},
   "outputs": [],
   "source": [
    "pages = ['/models/?anrede=Frau&location_radius=10']"
   ]
  },
  {
   "cell_type": "code",
   "execution_count": 121,
   "metadata": {},
   "outputs": [],
   "source": [
    "def crawl(pages):\n",
    "    found = list()\n",
    "    while len(page_set) < 50:\n",
    "        for page in pages:\n",
    "            print(page)\n",
    "            if page not in found:\n",
    "                soup = BeautifulSoup(requests.get(base_url+page).text, 'html5lib')\n",
    "                pagination = soup.find('ul', class_='pagination').findAll('a')\n",
    "                new_pages=[page['href'] for page in pagination if page.get('href')]\n",
    "                page_set.update(new_pages)\n",
    "                found.append(page)\n",
    "        print('PAGE SET',len(page_set))\n",
    "        pages = list(page_set)\n",
    "\n",
    "\n",
    "def get_models(url):\n",
    "    \"\"\"GETS THE URLS AND NAMES OF ALL MODELS ON THE WEBSITE\"\"\"\n",
    "    print(url)\n",
    "    soup = BeautifulSoup(requests.get(base_url+url).content, 'html5lib')\n",
    "    models = soup.find('ul',class_='listusers').findAll('a')\n",
    "    model_names = [' '.join(name.img['alt'].split()[1:]) for name in models]\n",
    "    model_links = [link['href'] for link in models]\n",
    "    models_dict = dict(zip(model_names, model_links))\n",
    "    main_models_dict.update(models_dict)\n",
    "\n",
    "            \n",
    "def parse(url):\n",
    "    model_info = dict()\n",
    "    soup3 = BeautifulSoup(requests.get(base_url+url).content, 'html5lib')\n",
    "    values = [val.text.strip() for val in soup3.find('div', class_ = 'view_profile').findAll('dd')[3:]]\n",
    "    translation = [\"HEIGHT\", \"Dimensions\" , \"CONFECTION\", \"CUP SIZE\", \"HAIR\", \"EYES\", \"SHOES\"]\n",
    "    for i,val in enumerate(values):\n",
    "        model_info[translation[i]] = val\n",
    "    return model_info\n",
    "\n",
    "def download_pics(pics):\n",
    "    for url in pics:\n",
    "        ua = fake_useragent.UserAgent()\n",
    "        path = f\"{basedir}/{k}/{url.split('/')[-1]}\"\n",
    "        print(path)\n",
    "        with open(path,'wb') as f:\n",
    "            f.write(requests.get(f\"{base_url}{url}\", headers={'User-Agent':ua.random}).content)\n",
    "def list_to_csv(lst):\n",
    "    with open(f\"{basedir}/models_info.csv\",'w') as f:\n",
    "        c = csv.DictWriter(f, [\"NAME\",\"URL\", \"HEIGHT\", \"Dimensions\" , \"CONFECTION\", \"CUP SIZE\", \"HAIR\", \"EYES\", \"SHOES\"])\n",
    "        c.writeheader()\n",
    "        for row in lst:\n",
    "            c.writerow(row)\n",
    "\n",
    "crawl(pages)"
   ]
  },
  {
   "cell_type": "code",
   "execution_count": 113,
   "metadata": {},
   "outputs": [
    {
     "name": "stdout",
     "output_type": "stream",
     "text": [
      "/models?anrede=Frau&location_radius=10&start=80\n",
      "/models?anrede=Frau&location_radius=10&start=340\n",
      "/models?anrede=Frau&location_radius=10&start=800\n",
      "/models?anrede=Frau&location_radius=10&start=420\n",
      "/models?anrede=Frau&location_radius=10&start=200\n",
      "/models?anrede=Frau&location_radius=10&start=40\n",
      "/models?anrede=Frau&location_radius=10&start=0\n",
      "/models?anrede=Frau&location_radius=10&start=680\n",
      "/models?anrede=Frau&location_radius=10&start=660\n",
      "/models?anrede=Frau&location_radius=10&start=160\n",
      "/models?anrede=Frau&location_radius=10&start=280\n",
      "/models?anrede=Frau&location_radius=10&start=240\n",
      "/models?anrede=Frau&location_radius=10&start=60\n",
      "/models?anrede=Frau&location_radius=10&start=820\n",
      "/models?anrede=Frau&location_radius=10&start=180\n",
      "/models?anrede=Frau&location_radius=10&start=740\n",
      "/models?anrede=Frau&location_radius=10&start=120\n",
      "/models?anrede=Frau&location_radius=10&start=720\n",
      "/models?anrede=Frau&location_radius=10&start=920\n",
      "/models?anrede=Frau&location_radius=10&start=600\n",
      "/models?anrede=Frau&location_radius=10&start=400\n",
      "/models?anrede=Frau&location_radius=10&start=780\n",
      "/models?anrede=Frau&location_radius=10&start=260\n",
      "/models?anrede=Frau&location_radius=10&start=620\n",
      "/models?anrede=Frau&location_radius=10&start=880\n",
      "/models?anrede=Frau&location_radius=10&start=380\n",
      "/models?anrede=Frau&location_radius=10&start=100\n",
      "/models?anrede=Frau&location_radius=10&start=860\n",
      "/models?anrede=Frau&location_radius=10&start=760\n",
      "/models?anrede=Frau&location_radius=10&start=320\n",
      "/models?anrede=Frau&location_radius=10&start=840\n",
      "/models?anrede=Frau&location_radius=10&start=360\n",
      "/models?anrede=Frau&location_radius=10&start=640\n",
      "/models?anrede=Frau&location_radius=10&start=140\n",
      "/models?anrede=Frau&location_radius=10&start=700\n",
      "/models?anrede=Frau&location_radius=10&start=220\n",
      "/models?anrede=Frau&location_radius=10&start=960\n",
      "/models?anrede=Frau&location_radius=10&start=900\n",
      "/models?anrede=Frau&location_radius=10&start=20\n",
      "/models?anrede=Frau&location_radius=10&start=980\n",
      "/models?anrede=Frau&location_radius=10&start=940\n",
      "/models?anrede=Frau&location_radius=10&start=300\n",
      "526\n"
     ]
    }
   ],
   "source": [
    "for link in page_set:\n",
    "    get_models(link)\n",
    "print(len(main_models_dict))"
   ]
  },
  {
   "cell_type": "code",
   "execution_count": 117,
   "metadata": {},
   "outputs": [
    {
     "name": "stdout",
     "output_type": "stream",
     "text": [
      "Anna-Lea /models/anna-lea_14580\n",
      "showcast.de/Anna-Lea/avatar14580_b07a5ffdb48b0667e717d3335a6c9356.jpg\n",
      "showcast.de/Anna-Lea/pdf114580_b3852f98348157f7c215f9848b38dfbe.jpg\n",
      "showcast.de/Anna-Lea/pdf214580_34169fec10461db95e9d8baba630736f.jpg\n",
      "showcast.de/Anna-Lea/_ralph_wietek_1_20170503_2097439727.jpg\n",
      "showcast.de/Anna-Lea/_sven_heller_1_20170503_1745073553.jpg\n",
      "showcast.de/Anna-Lea/_sven_heller_1_20170503_1584628074.jpg\n",
      "showcast.de/Anna-Lea/_bemoremedia_1_20170503_1580773950.jpg\n",
      "showcast.de/Anna-Lea/_ralph_wietek_1_20170503_1014233471.jpg\n",
      "showcast.de/Anna-Lea/_lena_faye_1_20170503_1915324132.jpg\n",
      "showcast.de/Anna-Lea/book_alm_3_20170504_1516119127.jpg\n",
      "showcast.de/Anna-Lea/book_alm_7_20170504_1533599188.jpg\n",
      "showcast.de/Anna-Lea/book_alm_9_20170504_1977571259.jpg\n",
      "showcast.de/Anna-Lea/book_alm_30_20170504_1775318198.jpg\n",
      "showcast.de/Anna-Lea/book_alm_35_20170504_1722985189.jpg\n",
      "showcast.de/Anna-Lea/5c7398ff8187d1.20229756.jpg\n",
      "showcast.de/Anna-Lea/5c73990f0a2818.71013164.jpg\n",
      "showcast.de/Anna-Lea/5c7399159f4467.92515129.jpg\n",
      "showcast.de/Anna-Lea/5c7399369a5ed7.50510771.jpg\n",
      "showcast.de/Anna-Lea/5c73994a22d1e1.37051422.jpg\n",
      "showcast.de/Anna-Lea/6034ef3b71d686.09595041.jpg\n",
      "showcast.de/Anna-Lea/6034ef3c583825.65780070.jpg\n",
      "showcast.de/Anna-Lea/6034ef3c1c1822.52513017.jpg\n",
      "showcast.de/Anna-Lea/6034ef3c2f2678.60336933.jpg\n",
      "showcast.de/Anna-Lea/6034ef3c7ea5e0.28370586.jpg\n",
      "showcast.de/Anna-Lea/6034ef3c93cdc2.04709995.jpg\n",
      "showcast.de/Anna-Lea/6034ef3d608428.98639741.jpg\n",
      "showcast.de/Anna-Lea/6034ef3d77fd77.01190808.jpg\n",
      "showcast.de/Anna-Lea/6034ef3e967b71.34515972.jpg\n",
      "showcast.de/Anna-Lea/6034ef3ea7e8c2.96425632.jpg\n",
      "showcast.de/Anna-Lea/6034ef3f20ad43.21667324.jpg\n",
      "showcast.de/Anna-Lea/6034ef3f352d57.98170712.jpg\n",
      "showcast.de/Anna-Lea/6034ef3f42cbe5.91296791.jpg\n",
      "showcast.de/Anna-Lea/6034ef40e59ef3.38037932.jpg\n",
      "showcast.de/Anna-Lea/6034ef415f3946.52276367.jpg\n",
      "showcast.de/Anna-Lea/6034ef4c361264.25137861.jpg\n",
      "35\n"
     ]
    }
   ],
   "source": [
    "for k,v in main_models_dict.items():\n",
    "    os.makedirs(f\"{basedir}/{k}\", exist_ok=True)\n",
    "    ua = fake_useragent.UserAgent()\n",
    "    print(k,v)\n",
    "    soup1 = BeautifulSoup(requests.get(base_url+v, headers={'User-Agent':ua.random}).content,'html5lib')\n",
    "    feat_dict = parse(v)\n",
    "    pics = [pic['href'] for pic in soup1.find('div', class_= 'tab-content').findAll('a')]\n",
    "    download_pics(pics)\n",
    "    print(len(pics))\n",
    "    feat_dict['NAME'] = k\n",
    "    feat_dict['URL'] = base_url+v\n",
    "    models_details.append(feat_dict)\n",
    "    "
   ]
  },
  {
   "cell_type": "code",
   "execution_count": 119,
   "metadata": {},
   "outputs": [
    {
     "data": {
      "text/plain": [
       "1"
      ]
     },
     "execution_count": 119,
     "metadata": {},
     "output_type": "execute_result"
    }
   ],
   "source": [
    "len(models_details)"
   ]
  },
  {
   "cell_type": "code",
   "execution_count": 122,
   "metadata": {},
   "outputs": [],
   "source": [
    "list_to_csv(models_details)"
   ]
  }
 ],
 "metadata": {
  "kernelspec": {
   "display_name": "Python 3",
   "language": "python",
   "name": "python3"
  },
  "language_info": {
   "codemirror_mode": {
    "name": "ipython",
    "version": 3
   },
   "file_extension": ".py",
   "mimetype": "text/x-python",
   "name": "python",
   "nbconvert_exporter": "python",
   "pygments_lexer": "ipython3",
   "version": "3.10.9"
  },
  "orig_nbformat": 4,
  "vscode": {
   "interpreter": {
    "hash": "abd831dd4d00d340afa9e767b46e329f8e65c4879bb830616b9e2acef8d75f4a"
   }
  }
 },
 "nbformat": 4,
 "nbformat_minor": 2
}
